{
 "cells": [
  {
   "cell_type": "markdown",
   "metadata": {
    "colab_type": "text",
    "id": "Tc4FoEagMzHg"
   },
   "source": [
    "## Braille Script - Digits Recognition"
   ]
  },
  {
   "cell_type": "markdown",
   "metadata": {
    "colab_type": "text",
    "id": "R_CJZ9mcB1nw"
   },
   "source": [
    "https://en.wikipedia.org/wiki/Braille"
   ]
  },
  {
   "cell_type": "markdown",
   "metadata": {
    "colab_type": "text",
    "id": "ct-HdffLMyql"
   },
   "source": [
    "Braille is a tactile writing system used by people who are visually impaired. It is traditionally written with embossed paper. Braille users can read computer screens and other electronic supports using refreshable braille displays. They can write braille with the original slate and stylus or type it on a braille writer, such as a portable braille notetaker or computer that prints with a braille embosser."
   ]
  },
  {
   "cell_type": "code",
   "execution_count": 1,
   "metadata": {
    "colab": {
     "base_uri": "https://localhost:8080/",
     "height": 34
    },
    "colab_type": "code",
    "id": "YaKAKU7yBWid",
    "outputId": "458fec83-a9ae-489d-b63c-ff998b39bb18"
   },
   "outputs": [
    {
     "name": "stdout",
     "output_type": "stream",
     "text": [
      "Drive already mounted at /content/drive; to attempt to forcibly remount, call drive.mount(\"/content/drive\", force_remount=True).\n"
     ]
    }
   ],
   "source": [
    "from google.colab import drive\n",
    "drive.mount('/content/drive')"
   ]
  },
  {
   "cell_type": "code",
   "execution_count": 2,
   "metadata": {
    "colab": {
     "base_uri": "https://localhost:8080/",
     "height": 34
    },
    "colab_type": "code",
    "id": "vAqnShVRAb8q",
    "outputId": "b1a952fa-25f4-480a-aa6f-f257a99a87ac"
   },
   "outputs": [
    {
     "name": "stderr",
     "output_type": "stream",
     "text": [
      "Using TensorFlow backend.\n"
     ]
    }
   ],
   "source": [
    "# Importing all necessary libraries \n",
    "from sklearn.model_selection import train_test_split\n",
    "from keras.models import Sequential,Model\n",
    "from keras.utils.np_utils import to_categorical\n",
    "from keras.preprocessing.image import ImageDataGenerator\n",
    "from sklearn.model_selection import train_test_split\n",
    "from keras.models import Sequential\n",
    "from keras.layers import Dense, Dropout, Flatten,BatchNormalization,Input\n",
    "from keras.layers import Conv2D, MaxPooling2D\n",
    "from keras import backend as K\n",
    "from keras.layers import Activation, Dense\n",
    "from keras import optimizers\n",
    "from keras.layers import Flatten\n",
    "import tensorflow as tf\n",
    "import glob\n",
    "from PIL import Image\n",
    "import numpy as np\n",
    "import matplotlib.pyplot as plt\n",
    "%matplotlib inline\n",
    "from numpy import expand_dims"
   ]
  },
  {
   "cell_type": "code",
   "execution_count": 0,
   "metadata": {
    "colab": {},
    "colab_type": "code",
    "id": "cGqW47m9Ab85"
   },
   "outputs": [],
   "source": [
    "# get images from drive\n",
    "images = glob.glob(\"/content/drive/My Drive/DLCP/braille_script/braille_digits\"+\"/*.png\")"
   ]
  },
  {
   "cell_type": "code",
   "execution_count": 0,
   "metadata": {
    "colab": {},
    "colab_type": "code",
    "id": "_MJWIr7NAb9A"
   },
   "outputs": [],
   "source": [
    "# sort images \n",
    "images.sort()"
   ]
  },
  {
   "cell_type": "code",
   "execution_count": 5,
   "metadata": {
    "colab": {
     "base_uri": "https://localhost:8080/",
     "height": 187
    },
    "colab_type": "code",
    "id": "cXssBiwLAb9E",
    "outputId": "698436f8-0a56-4cf8-d461-4f59bc944b37"
   },
   "outputs": [
    {
     "data": {
      "text/plain": [
       "['/content/drive/My Drive/DLCP/braille_script/braille_digits/b0.png',\n",
       " '/content/drive/My Drive/DLCP/braille_script/braille_digits/b1.png',\n",
       " '/content/drive/My Drive/DLCP/braille_script/braille_digits/b2.png',\n",
       " '/content/drive/My Drive/DLCP/braille_script/braille_digits/b3.png',\n",
       " '/content/drive/My Drive/DLCP/braille_script/braille_digits/b4.png',\n",
       " '/content/drive/My Drive/DLCP/braille_script/braille_digits/b5.png',\n",
       " '/content/drive/My Drive/DLCP/braille_script/braille_digits/b6.png',\n",
       " '/content/drive/My Drive/DLCP/braille_script/braille_digits/b7.png',\n",
       " '/content/drive/My Drive/DLCP/braille_script/braille_digits/b8.png',\n",
       " '/content/drive/My Drive/DLCP/braille_script/braille_digits/b9.png']"
      ]
     },
     "execution_count": 5,
     "metadata": {
      "tags": []
     },
     "output_type": "execute_result"
    }
   ],
   "source": [
    "images"
   ]
  },
  {
   "cell_type": "code",
   "execution_count": 0,
   "metadata": {
    "colab": {},
    "colab_type": "code",
    "id": "-keGeXEvAb9I"
   },
   "outputs": [],
   "source": [
    "# convert images to grayscale and resize to 28X28\n",
    "images_array = []\n",
    "for img in images:\n",
    "    img = Image.open(img)\n",
    "    # img = img.convert('RGB')\n",
    "    img = img.convert('L')\n",
    "    img = img.resize((28,28), Image.ANTIALIAS)\n",
    "    images_array.append(np.array(img))\n",
    "images_array = np.array(images_array)"
   ]
  },
  {
   "cell_type": "code",
   "execution_count": 7,
   "metadata": {
    "colab": {
     "base_uri": "https://localhost:8080/",
     "height": 98
    },
    "colab_type": "code",
    "id": "-DnF0GlQAb9V",
    "outputId": "7a4e31ba-92ad-4543-eb67-861cd97a2270"
   },
   "outputs": [
    {
     "data": {
      "image/png": "[encoded data removed]",
      "text/plain": [
       "<Figure size 720x72 with 10 Axes>"
      ]
     },
     "metadata": {
      "tags": []
     },
     "output_type": "display_data"
    }
   ],
   "source": [
    "# plot images\n",
    "plt.figure(figsize=(10, 1))\n",
    "for i in range(10):\n",
    "    plt.subplot(1,10,i+1)\n",
    "    plt.imshow(images_array[i],cmap=\"gray\")\n",
    "    plt.axis(\"off\")"
   ]
  },
  {
   "cell_type": "code",
   "execution_count": 0,
   "metadata": {
    "colab": {},
    "colab_type": "code",
    "id": "4Y51ecoYAb9c"
   },
   "outputs": [],
   "source": [
    "# create a large dataset with duplicates \n",
    "final_array = []\n",
    "labels_array = []\n",
    "for i,img in enumerate(images_array):\n",
    "    for j in range(10000):\n",
    "        final_array.append(img)\n",
    "        labels_array.append(i)\n",
    "final_array = np.array(final_array)\n",
    "labels_array = np.array(labels_array)"
   ]
  },
  {
   "cell_type": "code",
   "execution_count": 0,
   "metadata": {
    "colab": {},
    "colab_type": "code",
    "id": "jZhY6oJvAb9t"
   },
   "outputs": [],
   "source": [
    "# split the dataset into train and test\n",
    "trainX,testX,trainy,testy = train_test_split(final_array,labels_array,shuffle=True)"
   ]
  },
  {
   "cell_type": "code",
   "execution_count": 0,
   "metadata": {
    "colab": {},
    "colab_type": "code",
    "id": "R5icTKlJAb9x"
   },
   "outputs": [],
   "source": [
    "# reshape to be [samples][width][height][channels]\n",
    "X_train = trainX.reshape((trainX.shape[0], 28, 28, 1)).astype('float32')\n",
    "X_test = testX.reshape((testX.shape[0], 28, 28, 1)).astype('float32')\n",
    "# X_train = trainX.reshape(-1,28,28,1)\n",
    "# X_test = testX.reshape(-1,28,28,1)\n",
    "\n",
    "# normalize inputs from 0-255 to 0-1\n",
    "X_train = X_train / 255\n",
    "X_test = X_test / 255\n",
    "\n",
    "# convert\n",
    "Y_train = tf.keras.utils.to_categorical(trainy, num_classes=10)\n",
    "Y_test = tf.keras.utils.to_categorical(testy, num_classes=10)"
   ]
  },
  {
   "cell_type": "code",
   "execution_count": 11,
   "metadata": {
    "colab": {
     "base_uri": "https://localhost:8080/",
     "height": 34
    },
    "colab_type": "code",
    "id": "aijVAzC8UmJg",
    "outputId": "e87f0cb6-71ad-42af-d83e-535fc5b62068"
   },
   "outputs": [
    {
     "name": "stdout",
     "output_type": "stream",
     "text": [
      "(75000, 28, 28, 1) (25000, 28, 28, 1) (75000, 10) (25000, 10)\n"
     ]
    }
   ],
   "source": [
    "print(X_train.shape, X_test.shape, Y_train.shape, Y_test.shape)"
   ]
  },
  {
   "cell_type": "markdown",
   "metadata": {
    "colab_type": "text",
    "id": "gugWXryEck8V"
   },
   "source": [
    "## Image agumentation"
   ]
  },
  {
   "cell_type": "code",
   "execution_count": 12,
   "metadata": {
    "colab": {
     "base_uri": "https://localhost:8080/",
     "height": 71
    },
    "colab_type": "code",
    "id": "Ne_x6jq8aFCi",
    "outputId": "6fa59a77-5c86-4d9e-e1ef-8026c5972629"
   },
   "outputs": [
    {
     "name": "stderr",
     "output_type": "stream",
     "text": [
      "/usr/local/lib/python3.6/dist-packages/keras_preprocessing/image/image_data_generator.py:341: UserWarning: This ImageDataGenerator specifies `zca_whitening` which overrides setting of`featurewise_std_normalization`.\n",
      "  warnings.warn('This ImageDataGenerator specifies '\n"
     ]
    }
   ],
   "source": [
    "train_image_gen = ImageDataGenerator(\n",
    "    featurewise_center=True,\n",
    "    featurewise_std_normalization=True,\n",
    "    zca_whitening=True,\n",
    "    rotation_range=90,\n",
    "    horizontal_flip=True, \n",
    "    vertical_flip=True,\n",
    "    # rescale=1./255,\n",
    "    width_shift_range=0.2,\n",
    "    height_shift_range=0.2)\n",
    "test_image_gen = ImageDataGenerator(\n",
    "    featurewise_center=True,\n",
    "    featurewise_std_normalization=True,\n",
    "    zca_whitening=True,\n",
    "    rotation_range=90,\n",
    "    horizontal_flip=True, \n",
    "    vertical_flip=True,\n",
    "    # rescale=1./255,\n",
    "    width_shift_range=0.2,\n",
    "    height_shift_range=0.2)\n",
    "\n",
    "train_image_gen.fit(X_train, augment=True)\n",
    "test_image_gen.fit(X_test, augment=True)"
   ]
  },
  {
   "cell_type": "code",
   "execution_count": 13,
   "metadata": {
    "colab": {
     "base_uri": "https://localhost:8080/",
     "height": 269
    },
    "colab_type": "code",
    "id": "tGq4CYq0Ab-F",
    "outputId": "75ed2ce6-5fae-48a9-b906-22a5386e4866"
   },
   "outputs": [
    {
     "data": {
      "image/png": "[encoded data removed]",
      "text/plain": [
       "<Figure size 432x288 with 9 Axes>"
      ]
     },
     "metadata": {
      "tags": []
     },
     "output_type": "display_data"
    }
   ],
   "source": [
    "# plot images\n",
    "for X_batch, y_batch in train_image_gen.flow(X_train, trainy, batch_size=9):\n",
    "    # create a grid of 3x3 images\n",
    "    for i in range(0, 9):\n",
    "        plt.subplot(330 + 1 + i)\n",
    "        plt.imshow(X_batch[i].reshape(28, 28), cmap=plt.get_cmap('gray'))\n",
    "    # show the plot\n",
    "    plt.show()\n",
    "    break"
   ]
  },
  {
   "cell_type": "code",
   "execution_count": 0,
   "metadata": {
    "colab": {},
    "colab_type": "code",
    "id": "0aSxstldAb-K"
   },
   "outputs": [],
   "source": [
    "# lets set epochs and batch_size values\n",
    "epochs = 10\n",
    "batch_size = 128"
   ]
  },
  {
   "cell_type": "markdown",
   "metadata": {
    "colab_type": "text",
    "id": "tsaKyciRbTcV"
   },
   "source": [
    "## CNN"
   ]
  },
  {
   "cell_type": "code",
   "execution_count": 15,
   "metadata": {
    "colab": {
     "base_uri": "https://localhost:8080/",
     "height": 734
    },
    "colab_type": "code",
    "id": "btzbX01AoKtm",
    "outputId": "ee7f0d08-5049-46b9-85b8-59dc13e7fdac"
   },
   "outputs": [
    {
     "name": "stdout",
     "output_type": "stream",
     "text": [
      "WARNING:tensorflow:From /usr/local/lib/python3.6/dist-packages/tensorflow/python/ops/init_ops.py:1251: calling VarianceScaling.__init__ (from tensorflow.python.ops.init_ops) with dtype is deprecated and will be removed in a future version.\n",
      "Instructions for updating:\n",
      "Call initializer instance with the dtype argument instead of passing it to the constructor\n",
      "Model: \"sequential\"\n",
      "_________________________________________________________________\n",
      "Layer (type)                 Output Shape              Param #   \n",
      "=================================================================\n",
      "conv2d (Conv2D)              (None, 27, 27, 128)       640       \n",
      "_________________________________________________________________\n",
      "max_pooling2d (MaxPooling2D) (None, 13, 13, 128)       0         \n",
      "_________________________________________________________________\n",
      "batch_normalization (BatchNo (None, 13, 13, 128)       512       \n",
      "_________________________________________________________________\n",
      "conv2d_1 (Conv2D)            (None, 12, 12, 64)        32832     \n",
      "_________________________________________________________________\n",
      "max_pooling2d_1 (MaxPooling2 (None, 6, 6, 64)          0         \n",
      "_________________________________________________________________\n",
      "batch_normalization_1 (Batch (None, 6, 6, 64)          256       \n",
      "_________________________________________________________________\n",
      "conv2d_2 (Conv2D)            (None, 5, 5, 32)          8224      \n",
      "_________________________________________________________________\n",
      "max_pooling2d_2 (MaxPooling2 (None, 2, 2, 32)          0         \n",
      "_________________________________________________________________\n",
      "batch_normalization_2 (Batch (None, 2, 2, 32)          128       \n",
      "_________________________________________________________________\n",
      "flatten (Flatten)            (None, 128)               0         \n",
      "_________________________________________________________________\n",
      "dense (Dense)                (None, 64)                8256      \n",
      "_________________________________________________________________\n",
      "dropout (Dropout)            (None, 64)                0         \n",
      "_________________________________________________________________\n",
      "dense_1 (Dense)              (None, 32)                2080      \n",
      "_________________________________________________________________\n",
      "batch_normalization_3 (Batch (None, 32)                128       \n",
      "_________________________________________________________________\n",
      "dense_2 (Dense)              (None, 10)                330       \n",
      "=================================================================\n",
      "Total params: 53,386\n",
      "Trainable params: 52,874\n",
      "Non-trainable params: 512\n",
      "_________________________________________________________________\n"
     ]
    }
   ],
   "source": [
    "model = tf.keras.models.Sequential()\n",
    "# model.add(tf.keras.layers.Reshape((784,),input_shape=(28,28)))\n",
    "# model.add(tf.keras.layers.Reshape((28,28,1),input_shape=(28,28)))\n",
    "model.add(tf.keras.layers.Conv2D(128,kernel_size=(2,2), input_shape =(28,28,1), activation=\"relu\"))\n",
    "model.add(tf.keras.layers.MaxPooling2D(pool_size =(2,2)))\n",
    "model.add(tf.keras.layers.BatchNormalization())\n",
    "\n",
    "model.add(tf.keras.layers.Conv2D(64,kernel_size=(2,2), activation=\"relu\"))\n",
    "model.add(tf.keras.layers.MaxPooling2D(pool_size =(2,2)))\n",
    "model.add(tf.keras.layers.BatchNormalization())\n",
    "\n",
    "model.add(tf.keras.layers.Conv2D(32,kernel_size=(2,2), activation=\"relu\"))\n",
    "model.add(tf.keras.layers.MaxPooling2D(pool_size =(2,2)))\n",
    "model.add(tf.keras.layers.BatchNormalization())\n",
    "\n",
    "model.add(tf.keras.layers.Flatten())\n",
    "model.add(tf.keras.layers.Dense(64, activation=\"relu\"))\n",
    "model.add(tf.keras.layers.Dropout(0.2))\n",
    "model.add(tf.keras.layers.Dense(32,kernel_regularizer = tf.keras.regularizers.l2(0.01), activation=\"relu\"))\n",
    "model.add(tf.keras.layers.BatchNormalization())\n",
    "model.add(tf.keras.layers.Dense(10,activation=\"softmax\"))\n",
    "model.summary()"
   ]
  },
  {
   "cell_type": "code",
   "execution_count": 0,
   "metadata": {
    "colab": {},
    "colab_type": "code",
    "id": "ap2roeumAb-Q"
   },
   "outputs": [],
   "source": [
    "# Build CNN\n",
    "model.compile(loss='categorical_crossentropy', optimizer='sgd', metrics=['accuracy'])"
   ]
  },
  {
   "cell_type": "code",
   "execution_count": 18,
   "metadata": {
    "colab": {
     "base_uri": "https://localhost:8080/",
     "height": 1000
    },
    "colab_type": "code",
    "id": "K8ZHj52DLkzZ",
    "outputId": "e400d41e-3589-4ec9-fb3d-1dd86941a49d"
   },
   "outputs": [
    {
     "name": "stdout",
     "output_type": "stream",
     "text": [
      "Epoch 1/30\n",
      "585/585 [============================>.] - ETA: 0s - loss: 1.5446 - acc: 0.5491\n",
      "Epoch 00001: val_acc improved from -inf to 0.65956, saving model to /content/drive/My Drive/DLCP/braille_script/brallie_digits_model.h5\n",
      "586/585 [==============================] - 65s 112ms/step - loss: 1.5447 - acc: 0.5491 - val_loss: 1.2743 - val_acc: 0.6596\n",
      "Epoch 2/30\n",
      "585/585 [============================>.] - ETA: 0s - loss: 1.1648 - acc: 0.6765\n",
      "Epoch 00002: val_acc improved from 0.65956 to 0.77272, saving model to /content/drive/My Drive/DLCP/braille_script/brallie_digits_model.h5\n",
      "586/585 [==============================] - 63s 108ms/step - loss: 1.1645 - acc: 0.6766 - val_loss: 0.9312 - val_acc: 0.7727\n",
      "Epoch 3/30\n",
      "585/585 [============================>.] - ETA: 0s - loss: 0.9139 - acc: 0.7526\n",
      "Epoch 00003: val_acc improved from 0.77272 to 0.81152, saving model to /content/drive/My Drive/DLCP/braille_script/brallie_digits_model.h5\n",
      "586/585 [==============================] - 64s 109ms/step - loss: 0.9138 - acc: 0.7526 - val_loss: 0.7498 - val_acc: 0.8115\n",
      "Epoch 4/30\n",
      "585/585 [============================>.] - ETA: 0s - loss: 0.7548 - acc: 0.7933\n",
      "Epoch 00004: val_acc improved from 0.81152 to 0.85336, saving model to /content/drive/My Drive/DLCP/braille_script/brallie_digits_model.h5\n",
      "586/585 [==============================] - 65s 111ms/step - loss: 0.7549 - acc: 0.7933 - val_loss: 0.5993 - val_acc: 0.8534\n",
      "Epoch 5/30\n",
      "585/585 [============================>.] - ETA: 0s - loss: 0.6266 - acc: 0.8276\n",
      "Epoch 00005: val_acc improved from 0.85336 to 0.86636, saving model to /content/drive/My Drive/DLCP/braille_script/brallie_digits_model.h5\n",
      "586/585 [==============================] - 65s 112ms/step - loss: 0.6267 - acc: 0.8276 - val_loss: 0.5112 - val_acc: 0.8664\n",
      "Epoch 6/30\n",
      "585/585 [============================>.] - ETA: 0s - loss: 0.5447 - acc: 0.8465\n",
      "Epoch 00006: val_acc improved from 0.86636 to 0.88632, saving model to /content/drive/My Drive/DLCP/braille_script/brallie_digits_model.h5\n",
      "586/585 [==============================] - 65s 111ms/step - loss: 0.5446 - acc: 0.8465 - val_loss: 0.4376 - val_acc: 0.8863\n",
      "Epoch 7/30\n",
      "585/585 [============================>.] - ETA: 0s - loss: 0.4805 - acc: 0.8614\n",
      "Epoch 00007: val_acc improved from 0.88632 to 0.89060, saving model to /content/drive/My Drive/DLCP/braille_script/brallie_digits_model.h5\n",
      "586/585 [==============================] - 66s 112ms/step - loss: 0.4803 - acc: 0.8615 - val_loss: 0.3980 - val_acc: 0.8906\n",
      "Epoch 8/30\n",
      "585/585 [============================>.] - ETA: 0s - loss: 0.4211 - acc: 0.8767\n",
      "Epoch 00008: val_acc improved from 0.89060 to 0.90408, saving model to /content/drive/My Drive/DLCP/braille_script/brallie_digits_model.h5\n",
      "586/585 [==============================] - 64s 110ms/step - loss: 0.4209 - acc: 0.8768 - val_loss: 0.3422 - val_acc: 0.9041\n",
      "Epoch 9/30\n",
      "585/585 [============================>.] - ETA: 0s - loss: 0.3824 - acc: 0.8866\n",
      "Epoch 00009: val_acc improved from 0.90408 to 0.90852, saving model to /content/drive/My Drive/DLCP/braille_script/brallie_digits_model.h5\n",
      "586/585 [==============================] - 67s 114ms/step - loss: 0.3823 - acc: 0.8866 - val_loss: 0.3182 - val_acc: 0.9085\n",
      "Epoch 10/30\n",
      "585/585 [============================>.] - ETA: 0s - loss: 0.3472 - acc: 0.8934\n",
      "Epoch 00010: val_acc improved from 0.90852 to 0.92204, saving model to /content/drive/My Drive/DLCP/braille_script/brallie_digits_model.h5\n",
      "586/585 [==============================] - 65s 111ms/step - loss: 0.3471 - acc: 0.8934 - val_loss: 0.2745 - val_acc: 0.9220\n",
      "Epoch 11/30\n",
      "585/585 [============================>.] - ETA: 0s - loss: 0.3192 - acc: 0.9018\n",
      "Epoch 00011: val_acc improved from 0.92204 to 0.92620, saving model to /content/drive/My Drive/DLCP/braille_script/brallie_digits_model.h5\n",
      "586/585 [==============================] - 65s 110ms/step - loss: 0.3191 - acc: 0.9018 - val_loss: 0.2531 - val_acc: 0.9262\n",
      "Epoch 12/30\n",
      "585/585 [============================>.] - ETA: 0s - loss: 0.2942 - acc: 0.9086\n",
      "Epoch 00012: val_acc improved from 0.92620 to 0.92992, saving model to /content/drive/My Drive/DLCP/braille_script/brallie_digits_model.h5\n",
      "586/585 [==============================] - 67s 115ms/step - loss: 0.2941 - acc: 0.9086 - val_loss: 0.2349 - val_acc: 0.9299\n",
      "Epoch 13/30\n",
      "585/585 [============================>.] - ETA: 0s - loss: 0.2749 - acc: 0.9133\n",
      "Epoch 00013: val_acc improved from 0.92992 to 0.93468, saving model to /content/drive/My Drive/DLCP/braille_script/brallie_digits_model.h5\n",
      "586/585 [==============================] - 66s 113ms/step - loss: 0.2748 - acc: 0.9133 - val_loss: 0.2167 - val_acc: 0.9347\n",
      "Epoch 14/30\n",
      "585/585 [============================>.] - ETA: 0s - loss: 0.2582 - acc: 0.9175\n",
      "Epoch 00014: val_acc did not improve from 0.93468\n",
      "586/585 [==============================] - 66s 112ms/step - loss: 0.2582 - acc: 0.9175 - val_loss: 0.2083 - val_acc: 0.9344\n",
      "Epoch 15/30\n",
      "585/585 [============================>.] - ETA: 0s - loss: 0.2476 - acc: 0.9200\n",
      "Epoch 00015: val_acc improved from 0.93468 to 0.93924, saving model to /content/drive/My Drive/DLCP/braille_script/brallie_digits_model.h5\n",
      "586/585 [==============================] - 63s 108ms/step - loss: 0.2476 - acc: 0.9200 - val_loss: 0.1903 - val_acc: 0.9392\n",
      "Epoch 16/30\n",
      "585/585 [============================>.] - ETA: 0s - loss: 0.2329 - acc: 0.9247\n",
      "Epoch 00016: val_acc improved from 0.93924 to 0.94316, saving model to /content/drive/My Drive/DLCP/braille_script/brallie_digits_model.h5\n",
      "586/585 [==============================] - 64s 110ms/step - loss: 0.2330 - acc: 0.9247 - val_loss: 0.1817 - val_acc: 0.9432\n",
      "Epoch 17/30\n",
      "585/585 [============================>.] - ETA: 0s - loss: 0.2226 - acc: 0.9285\n",
      "Epoch 00017: val_acc did not improve from 0.94316\n",
      "586/585 [==============================] - 65s 110ms/step - loss: 0.2225 - acc: 0.9285 - val_loss: 0.1913 - val_acc: 0.9388\n",
      "Epoch 00017: early stopping\n"
     ]
    }
   ],
   "source": [
    "checkpint = tf.keras.callbacks.ModelCheckpoint(filepath=\"/content/drive/My Drive/DLCP/braille_script/brallie_digits_model.h5\",save_best_only=True,verbose=1,monitor=\"val_acc\",mode=\"max\")\n",
    "stoperly = tf.keras.callbacks.EarlyStopping(monitor=\"val_loss\",mode=\"auto\",verbose=1)\n",
    "callbaklist = [checkpint,stoperly]\n",
    "# model_history = model.fit(X_train_m3,trainy,validation_data=(X_test_m3,testy),epochs=10,batch_size=128,callbacks=callbaklist)\n",
    "model_history = model.fit_generator(train_image_gen.flow(X_train, Y_train, batch_size=batch_size),validation_data=test_image_gen.flow(X_test, Y_test, batch_size=batch_size),\n",
    "                    steps_per_epoch=len(X_train) / batch_size,validation_steps=len(X_test)/batch_size, epochs = 30,verbose = 1,callbacks=callbaklist)"
   ]
  },
  {
   "cell_type": "code",
   "execution_count": 19,
   "metadata": {
    "colab": {
     "base_uri": "https://localhost:8080/",
     "height": 503
    },
    "colab_type": "code",
    "id": "wZJZDFWk0YKo",
    "outputId": "c4ce11b8-136d-48d9-e2ed-151649497b01"
   },
   "outputs": [
    {
     "data": {
      "text/plain": [
       "<matplotlib.legend.Legend at 0x7f8466f54a20>"
      ]
     },
     "execution_count": 19,
     "metadata": {
      "tags": []
     },
     "output_type": "execute_result"
    },
    {
     "data": {
      "image/png": "[encoded data removed]",
      "text/plain": [
       "<Figure size 576x576 with 1 Axes>"
      ]
     },
     "metadata": {
      "tags": []
     },
     "output_type": "display_data"
    }
   ],
   "source": [
    "# plot train and test loss\n",
    "fig, ax = plt.subplots(figsize=(8, 8))\n",
    "ax.plot(model_history.history[\"loss\"])\n",
    "ax.legend(\"loss\")\n",
    "ax.plot(model_history.history[\"val_loss\"])\n",
    "ax.legend(\"val_loss\")"
   ]
  },
  {
   "cell_type": "code",
   "execution_count": 20,
   "metadata": {
    "colab": {
     "base_uri": "https://localhost:8080/",
     "height": 503
    },
    "colab_type": "code",
    "id": "1MsmpdES0eC-",
    "outputId": "a4ac8d4c-25bb-4513-be84-5e462312516a"
   },
   "outputs": [
    {
     "data": {
      "text/plain": [
       "<matplotlib.legend.Legend at 0x7f8466eb4be0>"
      ]
     },
     "execution_count": 20,
     "metadata": {
      "tags": []
     },
     "output_type": "execute_result"
    },
    {
     "data": {
      "image/png": "[encoded data removed]",
      "text/plain": [
       "<Figure size 576x576 with 1 Axes>"
      ]
     },
     "metadata": {
      "tags": []
     },
     "output_type": "display_data"
    }
   ],
   "source": [
    "# plot train and test accuracy\n",
    "fig, ax = plt.subplots(figsize=(8, 8))\n",
    "ax.plot(model_history.history[\"acc\"])\n",
    "ax.legend(\"acc\")\n",
    "ax.plot(model_history.history[\"val_acc\"])\n",
    "ax.legend(\"val_acc\")"
   ]
  },
  {
   "cell_type": "code",
   "execution_count": 21,
   "metadata": {
    "colab": {
     "base_uri": "https://localhost:8080/",
     "height": 51
    },
    "colab_type": "code",
    "id": "zwM4CGFhc9NX",
    "outputId": "f9807e73-2248-43ab-cae5-de47c6ee09c4"
   },
   "outputs": [
    {
     "name": "stdout",
     "output_type": "stream",
     "text": [
      "Test loss: 0.19335725192664838\n",
      "Test accuracy: 0.93736\n"
     ]
    }
   ],
   "source": [
    "# predict test accuracy\n",
    "scores = model.evaluate(test_image_gen.flow(X_test, Y_test, batch_size=batch_size), verbose=0)\n",
    "print('Test loss:', scores[0])\n",
    "print('Test accuracy:', scores[1])"
   ]
  },
  {
   "cell_type": "code",
   "execution_count": 0,
   "metadata": {
    "colab": {},
    "colab_type": "code",
    "id": "0NIggEPPYnxJ"
   },
   "outputs": [],
   "source": [
    "# make a prediction using test-time augmentation\n",
    "def tta_prediction(datagen, model, image, n_examples):\n",
    "\t# convert image into dataset\n",
    "\tsamples = expand_dims(image, 0)\n",
    "\t# prepare iterator\n",
    "\tit = datagen.flow(samples, batch_size=n_examples)\n",
    "\t# make predictions for each augmented image\n",
    "\tyhats = model.predict_generator(it, steps=n_examples, verbose=0)\n",
    "\t# sum across predictions\n",
    "\tsummed = np.sum(yhats, axis=0)\n",
    "\t# argmax across classes\n",
    "\treturn np.argmax(summed)"
   ]
  },
  {
   "cell_type": "code",
   "execution_count": 23,
   "metadata": {
    "colab": {
     "base_uri": "https://localhost:8080/",
     "height": 357
    },
    "colab_type": "code",
    "id": "KjKDlgRCdGio",
    "outputId": "26b8120d-e73c-439b-deff-e60cecfeedc6"
   },
   "outputs": [
    {
     "name": "stdout",
     "output_type": "stream",
     "text": [
      "truth: 8\n",
      "prediction: 8\n",
      "truth: 9\n",
      "prediction: 9\n",
      "truth: 0\n",
      "prediction: 0\n",
      "truth: 1\n",
      "prediction: 1\n",
      "truth: 4\n",
      "prediction: 4\n",
      "truth: 4\n",
      "prediction: 4\n",
      "truth: 3\n",
      "prediction: 3\n",
      "truth: 5\n",
      "prediction: 5\n",
      "truth: 9\n",
      "prediction: 9\n",
      "truth: 5\n",
      "prediction: 5\n"
     ]
    }
   ],
   "source": [
    "# plot and print model prediciton \n",
    "#plt.figure(figsize=(10, 1))\n",
    "for index in np.random.choice(25000,10):\n",
    "    img = X_test[index]\n",
    "    # plt.subplot(1,10,index+1)\n",
    "    # plt.imshow(img,cmap=\"gray\")\n",
    "    # plt.axis(\"off\")\n",
    "    print(\"truth:\",np.argmax(Y_test[index]))\n",
    "    pred = tta_prediction(train_image_gen,model,img,7)\n",
    "    print(\"prediction:\",pred)"
   ]
  },
  {
   "cell_type": "code",
   "execution_count": 0,
   "metadata": {
    "colab": {},
    "colab_type": "code",
    "id": "vdJD1O6uKXWO"
   },
   "outputs": [],
   "source": [
    "# from keras.models import load_model\n",
    "# model = load_model('brallie_model.h5')\n",
    "# model.load_weights('/content/drive/My Drive/DLCP/brallie_script/brallie_model.h5')\n",
    "# pred = model.predict(X_test_m3[467].reshape(1,28,28,1))\n",
    "\n",
    "# plt.figure(figsize=(10, 1))\n",
    "# for index in np.random.choice(25000,10):\n",
    "#     img = Image.open('data/' + str(index) + '.png').convert(\"L\")\n",
    "#     img = img.resize((28,28))\n",
    "#     im2arr = np.array(img)\n",
    "#     im2arr = X_test_m3[index]\n",
    "#     im2arr = im2arr.reshape(1,28,28,1)\n",
    "#     Predicting the Test set results\n",
    "#     y_pred = model.predict(im2arr,batch_size=128)"
   ]
  },
  {
   "cell_type": "code",
   "execution_count": 0,
   "metadata": {
    "colab": {},
    "colab_type": "code",
    "id": "DzKSfYgE5VWG"
   },
   "outputs": [],
   "source": []
  }
 ],
 "metadata": {
  "accelerator": "GPU",
  "colab": {
   "collapsed_sections": [],
   "name": "braille_script_digits.ipynb",
   "provenance": []
  },
  "kernelspec": {
   "display_name": "Python 3",
   "language": "python",
   "name": "python3"
  },
  "language_info": {
   "codemirror_mode": {
    "name": "ipython",
    "version": 3
   },
   "file_extension": ".py",
   "mimetype": "text/x-python",
   "name": "python",
   "nbconvert_exporter": "python",
   "pygments_lexer": "ipython3",
   "version": "3.7.0"
  }
 },
 "nbformat": 4,
 "nbformat_minor": 1
}
