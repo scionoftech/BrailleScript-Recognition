{
 "cells": [
  {
   "cell_type": "markdown",
   "metadata": {
    "colab_type": "text",
    "id": "uUjp5yraMXUP"
   },
   "source": [
    "## Braille Script - Alphabets Recognition"
   ]
  },
  {
   "cell_type": "markdown",
   "metadata": {
    "colab_type": "text",
    "id": "T89QiQ21B0UK"
   },
   "source": [
    "https://en.wikipedia.org/wiki/Braille"
   ]
  },
  {
   "cell_type": "markdown",
   "metadata": {
    "colab_type": "text",
    "id": "DGNXXdMmMndh"
   },
   "source": [
    "Braille is a tactile writing system used by people who are visually impaired. It is traditionally written with embossed paper. Braille users can read computer screens and other electronic supports using refreshable braille displays. They can write braille with the original slate and stylus or type it on a braille writer, such as a portable braille notetaker or computer that prints with a braille embosser."
   ]
  },
  {
   "cell_type": "code",
   "execution_count": 1,
   "metadata": {
    "colab": {
     "base_uri": "https://localhost:8080/",
     "height": 34
    },
    "colab_type": "code",
    "id": "YaKAKU7yBWid",
    "outputId": "6b09ba8f-92d8-4dc3-9c0f-fbbe957fba10"
   },
   "outputs": [
    {
     "name": "stdout",
     "output_type": "stream",
     "text": [
      "Drive already mounted at /content/drive; to attempt to forcibly remount, call drive.mount(\"/content/drive\", force_remount=True).\n"
     ]
    }
   ],
   "source": [
    "from google.colab import drive\n",
    "drive.mount('/content/drive')"
   ]
  },
  {
   "cell_type": "code",
   "execution_count": 2,
   "metadata": {
    "colab": {
     "base_uri": "https://localhost:8080/",
     "height": 34
    },
    "colab_type": "code",
    "id": "vAqnShVRAb8q",
    "outputId": "7ea15fbc-7a02-4259-ff5c-b450388afc45"
   },
   "outputs": [
    {
     "name": "stderr",
     "output_type": "stream",
     "text": [
      "Using TensorFlow backend.\n"
     ]
    }
   ],
   "source": [
    "# Importing all necessary libraries \n",
    "from sklearn.model_selection import train_test_split\n",
    "from keras.models import Sequential,Model\n",
    "from keras.utils.np_utils import to_categorical\n",
    "from keras.preprocessing.image import ImageDataGenerator\n",
    "from sklearn.model_selection import train_test_split\n",
    "from sklearn.preprocessing import LabelEncoder\n",
    "from keras.models import Sequential\n",
    "from keras.layers import Dense, Dropout, Flatten,BatchNormalization,Input\n",
    "from keras.layers import Conv2D, MaxPooling2D\n",
    "from keras import backend as K\n",
    "from keras.layers import Activation, Dense\n",
    "from keras import optimizers\n",
    "from keras.layers import Flatten\n",
    "import tensorflow as tf\n",
    "import glob\n",
    "from PIL import Image\n",
    "import numpy as np\n",
    "import matplotlib.pyplot as plt\n",
    "%matplotlib inline\n",
    "from numpy import expand_dims"
   ]
  },
  {
   "cell_type": "code",
   "execution_count": 0,
   "metadata": {
    "colab": {},
    "colab_type": "code",
    "id": "cGqW47m9Ab85"
   },
   "outputs": [],
   "source": [
    "# get images from drive\n",
    "images = glob.glob(\"/content/drive/My Drive/DLCP/braille_script/braille_alphabets\"+\"/*.png\")"
   ]
  },
  {
   "cell_type": "code",
   "execution_count": 0,
   "metadata": {
    "colab": {},
    "colab_type": "code",
    "id": "_MJWIr7NAb9A"
   },
   "outputs": [],
   "source": [
    "# sort images \n",
    "images.sort()"
   ]
  },
  {
   "cell_type": "code",
   "execution_count": 5,
   "metadata": {
    "colab": {
     "base_uri": "https://localhost:8080/",
     "height": 459
    },
    "colab_type": "code",
    "id": "cXssBiwLAb9E",
    "outputId": "fd605fef-b5c3-48cf-8262-4719d05fadd6"
   },
   "outputs": [
    {
     "data": {
      "text/plain": [
       "['/content/drive/My Drive/DLCP/braille_script/braille_alphabets/a.png',\n",
       " '/content/drive/My Drive/DLCP/braille_script/braille_alphabets/b.png',\n",
       " '/content/drive/My Drive/DLCP/braille_script/braille_alphabets/c.png',\n",
       " '/content/drive/My Drive/DLCP/braille_script/braille_alphabets/d.png',\n",
       " '/content/drive/My Drive/DLCP/braille_script/braille_alphabets/e.png',\n",
       " '/content/drive/My Drive/DLCP/braille_script/braille_alphabets/f.png',\n",
       " '/content/drive/My Drive/DLCP/braille_script/braille_alphabets/g.png',\n",
       " '/content/drive/My Drive/DLCP/braille_script/braille_alphabets/h.png',\n",
       " '/content/drive/My Drive/DLCP/braille_script/braille_alphabets/i.png',\n",
       " '/content/drive/My Drive/DLCP/braille_script/braille_alphabets/j.png',\n",
       " '/content/drive/My Drive/DLCP/braille_script/braille_alphabets/k.png',\n",
       " '/content/drive/My Drive/DLCP/braille_script/braille_alphabets/l.png',\n",
       " '/content/drive/My Drive/DLCP/braille_script/braille_alphabets/m.png',\n",
       " '/content/drive/My Drive/DLCP/braille_script/braille_alphabets/n.png',\n",
       " '/content/drive/My Drive/DLCP/braille_script/braille_alphabets/o.png',\n",
       " '/content/drive/My Drive/DLCP/braille_script/braille_alphabets/p.png',\n",
       " '/content/drive/My Drive/DLCP/braille_script/braille_alphabets/q.png',\n",
       " '/content/drive/My Drive/DLCP/braille_script/braille_alphabets/r.png',\n",
       " '/content/drive/My Drive/DLCP/braille_script/braille_alphabets/s.png',\n",
       " '/content/drive/My Drive/DLCP/braille_script/braille_alphabets/t.png',\n",
       " '/content/drive/My Drive/DLCP/braille_script/braille_alphabets/u.png',\n",
       " '/content/drive/My Drive/DLCP/braille_script/braille_alphabets/v.png',\n",
       " '/content/drive/My Drive/DLCP/braille_script/braille_alphabets/w.png',\n",
       " '/content/drive/My Drive/DLCP/braille_script/braille_alphabets/x.png',\n",
       " '/content/drive/My Drive/DLCP/braille_script/braille_alphabets/y.png',\n",
       " '/content/drive/My Drive/DLCP/braille_script/braille_alphabets/z.png']"
      ]
     },
     "execution_count": 5,
     "metadata": {
      "tags": []
     },
     "output_type": "execute_result"
    }
   ],
   "source": [
    "images"
   ]
  },
  {
   "cell_type": "code",
   "execution_count": 0,
   "metadata": {
    "colab": {},
    "colab_type": "code",
    "id": "-keGeXEvAb9I"
   },
   "outputs": [],
   "source": [
    "# convert images to grayscale and resize to 28X28\n",
    "images_array = []\n",
    "for img in images:\n",
    "    img = Image.open(img)\n",
    "    # img = img.convert('RGB')\n",
    "    img = img.convert('L')\n",
    "    img = img.resize((28,28), Image.ANTIALIAS)\n",
    "    images_array.append(np.array(img))\n",
    "images_array = np.array(images_array)"
   ]
  },
  {
   "cell_type": "code",
   "execution_count": 7,
   "metadata": {
    "colab": {
     "base_uri": "https://localhost:8080/",
     "height": 118
    },
    "colab_type": "code",
    "id": "-DnF0GlQAb9V",
    "outputId": "8f1a3ba7-efbc-4f75-f9c5-6e39bf0c5781"
   },
   "outputs": [
    {
     "data": {
      "image/png": "[encoded data removed]",
      "text/plain": [
       "<Figure size 1872x72 with 26 Axes>"
      ]
     },
     "metadata": {
      "tags": []
     },
     "output_type": "display_data"
    }
   ],
   "source": [
    "# plot images\n",
    "plt.figure(figsize=(26, 1))\n",
    "for i in range(26):\n",
    "    plt.subplot(1,26,i+1)\n",
    "    plt.imshow(images_array[i],cmap=\"gray\")\n",
    "    plt.axis(\"off\")"
   ]
  },
  {
   "cell_type": "code",
   "execution_count": 0,
   "metadata": {
    "colab": {},
    "colab_type": "code",
    "id": "4Y51ecoYAb9c"
   },
   "outputs": [],
   "source": [
    "# create a large dataset with duplicates \n",
    "labels = [\"a\",\"b\",\"c\",\"d\",\"e\",\"f\",\"g\",\"h\",\"i\",\"j\",\"k\",\"l\",\"m\",\"n\",\"o\",\"p\",\"q\",\"r\",\"s\",\"t\",\"u\",\"v\",\"w\",\"x\",\"y\",\"z\"]\n",
    "final_array = []\n",
    "labels_array = []\n",
    "for i,img in enumerate(images_array):\n",
    "    for j in range(10000):\n",
    "        final_array.append(img)\n",
    "        labels_array.append(labels[i])\n",
    "final_array = np.array(final_array)\n",
    "labels_array = np.array(labels_array)"
   ]
  },
  {
   "cell_type": "code",
   "execution_count": 0,
   "metadata": {
    "colab": {},
    "colab_type": "code",
    "id": "EJaiN2RH0bPG"
   },
   "outputs": [],
   "source": [
    "# Label Encoding\n",
    "le = LabelEncoder()\n",
    "le.fit(labels_array)\n",
    "\n",
    "def encode(le, labels):\n",
    "    enc = le.transform(labels)\n",
    "    return tf.keras.utils.to_categorical(enc, num_classes=26)\n",
    "def decode(le, one_hot):\n",
    "    dec = np.argmax(one_hot,axis=1)\n",
    "    return le.inverse_transform(dec)"
   ]
  },
  {
   "cell_type": "code",
   "execution_count": 0,
   "metadata": {
    "colab": {},
    "colab_type": "code",
    "id": "XPUhkL4euJ6v"
   },
   "outputs": [],
   "source": [
    "labels_array_en = encode(le, labels_array)"
   ]
  },
  {
   "cell_type": "code",
   "execution_count": 0,
   "metadata": {
    "colab": {},
    "colab_type": "code",
    "id": "jZhY6oJvAb9t"
   },
   "outputs": [],
   "source": [
    "# split the dataset into train and test\n",
    "X_train,X_test,Y_train,Y_test = train_test_split(final_array,labels_array_en,shuffle=True)"
   ]
  },
  {
   "cell_type": "code",
   "execution_count": 0,
   "metadata": {
    "colab": {},
    "colab_type": "code",
    "id": "R5icTKlJAb9x"
   },
   "outputs": [],
   "source": [
    "# reshape to be [samples][width][height][channels]\n",
    "X_train = X_train.reshape((X_train.shape[0], 28, 28, 1)).astype('float32')\n",
    "X_test = X_test.reshape((X_test.shape[0], 28, 28, 1)).astype('float32')\n",
    "# X_train = trainX.reshape(-1,28,28,1)\n",
    "# X_test = testX.reshape(-1,28,28,1)\n",
    "\n",
    "# normalize inputs from 0-255 to 0-1\n",
    "X_train = X_train / 255\n",
    "X_test = X_test / 255"
   ]
  },
  {
   "cell_type": "code",
   "execution_count": 13,
   "metadata": {
    "colab": {
     "base_uri": "https://localhost:8080/",
     "height": 34
    },
    "colab_type": "code",
    "id": "aijVAzC8UmJg",
    "outputId": "59af4efc-96bf-41f0-fc43-f8dbcdf09115"
   },
   "outputs": [
    {
     "name": "stdout",
     "output_type": "stream",
     "text": [
      "(195000, 28, 28, 1) (65000, 28, 28, 1) (195000, 26) (65000, 26)\n"
     ]
    }
   ],
   "source": [
    "print(X_train.shape, X_test.shape, Y_train.shape, Y_test.shape)"
   ]
  },
  {
   "cell_type": "markdown",
   "metadata": {
    "colab_type": "text",
    "id": "gugWXryEck8V"
   },
   "source": [
    "## Image agumentation"
   ]
  },
  {
   "cell_type": "code",
   "execution_count": 14,
   "metadata": {
    "colab": {
     "base_uri": "https://localhost:8080/",
     "height": 71
    },
    "colab_type": "code",
    "id": "Ne_x6jq8aFCi",
    "outputId": "cfc10245-b1b8-4f92-f476-f35f35b53016"
   },
   "outputs": [
    {
     "name": "stderr",
     "output_type": "stream",
     "text": [
      "/usr/local/lib/python3.6/dist-packages/keras_preprocessing/image/image_data_generator.py:341: UserWarning: This ImageDataGenerator specifies `zca_whitening` which overrides setting of`featurewise_std_normalization`.\n",
      "  warnings.warn('This ImageDataGenerator specifies '\n"
     ]
    }
   ],
   "source": [
    "train_image_gen = ImageDataGenerator(\n",
    "    featurewise_center=True,\n",
    "    featurewise_std_normalization=True,\n",
    "    zca_whitening=True,\n",
    "    rotation_range=90,\n",
    "    horizontal_flip=True, \n",
    "    vertical_flip=True,\n",
    "    # rescale=1./255,\n",
    "    width_shift_range=0.2,\n",
    "    height_shift_range=0.2)\n",
    "test_image_gen = ImageDataGenerator(\n",
    "    featurewise_center=True,\n",
    "    featurewise_std_normalization=True,\n",
    "    zca_whitening=True,\n",
    "    rotation_range=90,\n",
    "    horizontal_flip=True, \n",
    "    vertical_flip=True,\n",
    "    # rescale=1./255,\n",
    "    width_shift_range=0.2,\n",
    "    height_shift_range=0.2)\n",
    "\n",
    "train_image_gen.fit(X_train, augment=True)\n",
    "test_image_gen.fit(X_test, augment=True)"
   ]
  },
  {
   "cell_type": "code",
   "execution_count": 15,
   "metadata": {
    "colab": {
     "base_uri": "https://localhost:8080/",
     "height": 269
    },
    "colab_type": "code",
    "id": "tGq4CYq0Ab-F",
    "outputId": "a80cc342-03a3-4077-ab5f-321c55806659"
   },
   "outputs": [
    {
     "data": {
      "image/png": "[encoded data removed]",
      "text/plain": [
       "<Figure size 432x288 with 9 Axes>"
      ]
     },
     "metadata": {
      "tags": []
     },
     "output_type": "display_data"
    }
   ],
   "source": [
    "# plot images\n",
    "for X_batch, y_batch in train_image_gen.flow(X_train, Y_train, batch_size=9):\n",
    "    # create a grid of 3x3 images\n",
    "    for i in range(0, 9):\n",
    "        plt.subplot(330 + 1 + i)\n",
    "        plt.imshow(X_batch[i].reshape(28, 28), cmap=plt.get_cmap('gray'))\n",
    "    # show the plot\n",
    "    plt.show()\n",
    "    break"
   ]
  },
  {
   "cell_type": "code",
   "execution_count": 0,
   "metadata": {
    "colab": {},
    "colab_type": "code",
    "id": "0aSxstldAb-K"
   },
   "outputs": [],
   "source": [
    "# lets set epochs and batch_size values\n",
    "epochs = 10\n",
    "batch_size = 128"
   ]
  },
  {
   "cell_type": "markdown",
   "metadata": {
    "colab_type": "text",
    "id": "tsaKyciRbTcV"
   },
   "source": [
    "## CNN"
   ]
  },
  {
   "cell_type": "code",
   "execution_count": 17,
   "metadata": {
    "colab": {
     "base_uri": "https://localhost:8080/",
     "height": 734
    },
    "colab_type": "code",
    "id": "btzbX01AoKtm",
    "outputId": "97f2ad25-7815-430f-cdaf-3c46596d6191"
   },
   "outputs": [
    {
     "name": "stdout",
     "output_type": "stream",
     "text": [
      "WARNING:tensorflow:From /usr/local/lib/python3.6/dist-packages/tensorflow/python/ops/init_ops.py:1251: calling VarianceScaling.__init__ (from tensorflow.python.ops.init_ops) with dtype is deprecated and will be removed in a future version.\n",
      "Instructions for updating:\n",
      "Call initializer instance with the dtype argument instead of passing it to the constructor\n",
      "Model: \"sequential\"\n",
      "_________________________________________________________________\n",
      "Layer (type)                 Output Shape              Param #   \n",
      "=================================================================\n",
      "conv2d (Conv2D)              (None, 27, 27, 128)       640       \n",
      "_________________________________________________________________\n",
      "max_pooling2d (MaxPooling2D) (None, 13, 13, 128)       0         \n",
      "_________________________________________________________________\n",
      "batch_normalization (BatchNo (None, 13, 13, 128)       512       \n",
      "_________________________________________________________________\n",
      "conv2d_1 (Conv2D)            (None, 12, 12, 64)        32832     \n",
      "_________________________________________________________________\n",
      "max_pooling2d_1 (MaxPooling2 (None, 6, 6, 64)          0         \n",
      "_________________________________________________________________\n",
      "batch_normalization_1 (Batch (None, 6, 6, 64)          256       \n",
      "_________________________________________________________________\n",
      "conv2d_2 (Conv2D)            (None, 5, 5, 32)          8224      \n",
      "_________________________________________________________________\n",
      "max_pooling2d_2 (MaxPooling2 (None, 2, 2, 32)          0         \n",
      "_________________________________________________________________\n",
      "batch_normalization_2 (Batch (None, 2, 2, 32)          128       \n",
      "_________________________________________________________________\n",
      "flatten (Flatten)            (None, 128)               0         \n",
      "_________________________________________________________________\n",
      "dense (Dense)                (None, 64)                8256      \n",
      "_________________________________________________________________\n",
      "dropout (Dropout)            (None, 64)                0         \n",
      "_________________________________________________________________\n",
      "dense_1 (Dense)              (None, 32)                2080      \n",
      "_________________________________________________________________\n",
      "batch_normalization_3 (Batch (None, 32)                128       \n",
      "_________________________________________________________________\n",
      "dense_2 (Dense)              (None, 26)                858       \n",
      "=================================================================\n",
      "Total params: 53,914\n",
      "Trainable params: 53,402\n",
      "Non-trainable params: 512\n",
      "_________________________________________________________________\n"
     ]
    }
   ],
   "source": [
    "model = tf.keras.models.Sequential()\n",
    "# model.add(tf.keras.layers.Reshape((784,),input_shape=(28,28)))\n",
    "# model.add(tf.keras.layers.Reshape((28,28,1),input_shape=(28,28)))\n",
    "model.add(tf.keras.layers.Conv2D(128,kernel_size=(2,2), input_shape =(28,28,1), activation=\"relu\"))\n",
    "model.add(tf.keras.layers.MaxPooling2D(pool_size =(2,2)))\n",
    "model.add(tf.keras.layers.BatchNormalization())\n",
    "\n",
    "model.add(tf.keras.layers.Conv2D(64,kernel_size=(2,2), activation=\"relu\"))\n",
    "model.add(tf.keras.layers.MaxPooling2D(pool_size =(2,2)))\n",
    "model.add(tf.keras.layers.BatchNormalization())\n",
    "\n",
    "model.add(tf.keras.layers.Conv2D(32,kernel_size=(2,2), activation=\"relu\"))\n",
    "model.add(tf.keras.layers.MaxPooling2D(pool_size =(2,2)))\n",
    "model.add(tf.keras.layers.BatchNormalization())\n",
    "\n",
    "model.add(tf.keras.layers.Flatten())\n",
    "model.add(tf.keras.layers.Dense(64, activation=\"relu\"))\n",
    "model.add(tf.keras.layers.Dropout(0.2))\n",
    "model.add(tf.keras.layers.Dense(32,kernel_regularizer = tf.keras.regularizers.l2(0.01), activation=\"relu\"))\n",
    "model.add(tf.keras.layers.BatchNormalization())\n",
    "model.add(tf.keras.layers.Dense(26,activation=\"softmax\"))\n",
    "model.summary()"
   ]
  },
  {
   "cell_type": "code",
   "execution_count": 0,
   "metadata": {
    "colab": {},
    "colab_type": "code",
    "id": "ap2roeumAb-Q"
   },
   "outputs": [],
   "source": [
    "# Build CNN\n",
    "model.compile(loss='categorical_crossentropy', optimizer='sgd', metrics=['accuracy'])"
   ]
  },
  {
   "cell_type": "code",
   "execution_count": 19,
   "metadata": {
    "colab": {
     "base_uri": "https://localhost:8080/",
     "height": 666
    },
    "colab_type": "code",
    "id": "K8ZHj52DLkzZ",
    "outputId": "d0335889-39fe-493a-de63-f0bfeb07afb0"
   },
   "outputs": [
    {
     "name": "stdout",
     "output_type": "stream",
     "text": [
      "Epoch 1/30\n",
      "1523/1523 [============================>.] - ETA: 0s - loss: 2.7493 - acc: 0.2598\n",
      "Epoch 00001: val_acc improved from -inf to 0.47543, saving model to /content/drive/My Drive/DLCP/braille_script/brallie_alphabets_model.h5\n",
      "1524/1523 [==============================] - 200s 131ms/step - loss: 2.7489 - acc: 0.2599 - val_loss: 1.9486 - val_acc: 0.4754\n",
      "Epoch 2/30\n",
      "1523/1523 [============================>.] - ETA: 0s - loss: 1.6074 - acc: 0.5293\n",
      "Epoch 00002: val_acc improved from 0.47543 to 0.63465, saving model to /content/drive/My Drive/DLCP/braille_script/brallie_alphabets_model.h5\n",
      "1524/1523 [==============================] - 190s 125ms/step - loss: 1.6072 - acc: 0.5293 - val_loss: 1.2581 - val_acc: 0.6346\n",
      "Epoch 3/30\n",
      "1523/1523 [============================>.] - ETA: 0s - loss: 1.1145 - acc: 0.6467\n",
      "Epoch 00003: val_acc improved from 0.63465 to 0.73488, saving model to /content/drive/My Drive/DLCP/braille_script/brallie_alphabets_model.h5\n",
      "1524/1523 [==============================] - 190s 125ms/step - loss: 1.1144 - acc: 0.6467 - val_loss: 0.8475 - val_acc: 0.7349\n",
      "Epoch 4/30\n",
      "1523/1523 [============================>.] - ETA: 0s - loss: 0.8516 - acc: 0.7127\n",
      "Epoch 00004: val_acc improved from 0.73488 to 0.76914, saving model to /content/drive/My Drive/DLCP/braille_script/brallie_alphabets_model.h5\n",
      "1524/1523 [==============================] - 192s 126ms/step - loss: 0.8515 - acc: 0.7128 - val_loss: 0.6932 - val_acc: 0.7691\n",
      "Epoch 5/30\n",
      "1523/1523 [============================>.] - ETA: 0s - loss: 0.6975 - acc: 0.7538\n",
      "Epoch 00005: val_acc improved from 0.76914 to 0.80714, saving model to /content/drive/My Drive/DLCP/braille_script/brallie_alphabets_model.h5\n",
      "1524/1523 [==============================] - 190s 125ms/step - loss: 0.6974 - acc: 0.7538 - val_loss: 0.5506 - val_acc: 0.8071\n",
      "Epoch 6/30\n",
      "1523/1523 [============================>.] - ETA: 0s - loss: 0.6115 - acc: 0.7781\n",
      "Epoch 00006: val_acc did not improve from 0.80714\n",
      "1524/1523 [==============================] - 190s 125ms/step - loss: 0.6115 - acc: 0.7781 - val_loss: 0.5397 - val_acc: 0.8012\n",
      "Epoch 7/30\n",
      "1523/1523 [============================>.] - ETA: 0s - loss: 0.5489 - acc: 0.7974\n",
      "Epoch 00007: val_acc improved from 0.80714 to 0.83443, saving model to /content/drive/My Drive/DLCP/braille_script/brallie_alphabets_model.h5\n",
      "1524/1523 [==============================] - 189s 124ms/step - loss: 0.5488 - acc: 0.7974 - val_loss: 0.4516 - val_acc: 0.8344\n",
      "Epoch 8/30\n",
      "1523/1523 [============================>.] - ETA: 0s - loss: 0.5070 - acc: 0.8115\n",
      "Epoch 00008: val_acc improved from 0.83443 to 0.84554, saving model to /content/drive/My Drive/DLCP/braille_script/brallie_alphabets_model.h5\n",
      "1524/1523 [==============================] - 190s 125ms/step - loss: 0.5071 - acc: 0.8114 - val_loss: 0.4164 - val_acc: 0.8455\n",
      "Epoch 9/30\n",
      "1523/1523 [============================>.] - ETA: 0s - loss: 0.4680 - acc: 0.8246\n",
      "Epoch 00009: val_acc did not improve from 0.84554\n",
      "1524/1523 [==============================] - 189s 124ms/step - loss: 0.4680 - acc: 0.8246 - val_loss: 0.4529 - val_acc: 0.8264\n",
      "Epoch 00009: early stopping\n"
     ]
    }
   ],
   "source": [
    "checkpint = tf.keras.callbacks.ModelCheckpoint(filepath=\"/content/drive/My Drive/DLCP/braille_script/brallie_alphabets_model.h5\",save_best_only=True,verbose=1,monitor=\"val_acc\",mode=\"max\")\n",
    "stoperly = tf.keras.callbacks.EarlyStopping(monitor=\"val_loss\",mode=\"auto\",verbose=1)\n",
    "callbaklist = [checkpint,stoperly]\n",
    "# model_history = model.fit(X_train_m3,trainy,validation_data=(X_test_m3,testy),epochs=10,batch_size=128,callbacks=callbaklist)\n",
    "model_history = model.fit_generator(train_image_gen.flow(X_train, Y_train, batch_size=batch_size),validation_data=test_image_gen.flow(X_test, Y_test, batch_size=batch_size),\n",
    "                    steps_per_epoch=len(X_train) / batch_size,validation_steps=len(X_test)/batch_size, epochs = 30,verbose = 1,callbacks=callbaklist)"
   ]
  },
  {
   "cell_type": "code",
   "execution_count": 20,
   "metadata": {
    "colab": {
     "base_uri": "https://localhost:8080/",
     "height": 503
    },
    "colab_type": "code",
    "id": "wZJZDFWk0YKo",
    "outputId": "a1e91c90-c7ba-4188-9b8e-72739b78e9dd"
   },
   "outputs": [
    {
     "data": {
      "text/plain": [
       "<matplotlib.legend.Legend at 0x7efd5dcafef0>"
      ]
     },
     "execution_count": 20,
     "metadata": {
      "tags": []
     },
     "output_type": "execute_result"
    },
    {
     "data": {
      "image/png": "[encoded data removed]",
      "text/plain": [
       "<Figure size 576x576 with 1 Axes>"
      ]
     },
     "metadata": {
      "tags": []
     },
     "output_type": "display_data"
    }
   ],
   "source": [
    "# plot train and test loss\n",
    "fig, ax = plt.subplots(figsize=(8, 8))\n",
    "ax.plot(model_history.history[\"loss\"])\n",
    "ax.legend(\"loss\")\n",
    "ax.plot(model_history.history[\"val_loss\"])\n",
    "ax.legend(\"val_loss\")"
   ]
  },
  {
   "cell_type": "code",
   "execution_count": 21,
   "metadata": {
    "colab": {
     "base_uri": "https://localhost:8080/",
     "height": 503
    },
    "colab_type": "code",
    "id": "1MsmpdES0eC-",
    "outputId": "6f39dcc5-b0a3-466a-8402-7e8559d776d2"
   },
   "outputs": [
    {
     "data": {
      "text/plain": [
       "<matplotlib.legend.Legend at 0x7efd5dc83f60>"
      ]
     },
     "execution_count": 21,
     "metadata": {
      "tags": []
     },
     "output_type": "execute_result"
    },
    {
     "data": {
      "image/png": "[encoded data removed]",
      "text/plain": [
       "<Figure size 576x576 with 1 Axes>"
      ]
     },
     "metadata": {
      "tags": []
     },
     "output_type": "display_data"
    }
   ],
   "source": [
    "# plot train and test accuracy\n",
    "fig, ax = plt.subplots(figsize=(8, 8))\n",
    "ax.plot(model_history.history[\"acc\"])\n",
    "ax.legend(\"acc\")\n",
    "ax.plot(model_history.history[\"val_acc\"])\n",
    "ax.legend(\"val_acc\")"
   ]
  },
  {
   "cell_type": "code",
   "execution_count": 22,
   "metadata": {
    "colab": {
     "base_uri": "https://localhost:8080/",
     "height": 51
    },
    "colab_type": "code",
    "id": "zwM4CGFhc9NX",
    "outputId": "51caa8cb-218d-4c98-a4d7-28b000a38366"
   },
   "outputs": [
    {
     "name": "stdout",
     "output_type": "stream",
     "text": [
      "Test loss: 0.4558691083798258\n",
      "Test accuracy: 0.82767695\n"
     ]
    }
   ],
   "source": [
    "# predict test accuracy\n",
    "scores = model.evaluate(test_image_gen.flow(X_test, Y_test, batch_size=batch_size), verbose=0)\n",
    "print('Test loss:', scores[0])\n",
    "print('Test accuracy:', scores[1])"
   ]
  },
  {
   "cell_type": "code",
   "execution_count": 0,
   "metadata": {
    "colab": {},
    "colab_type": "code",
    "id": "0NIggEPPYnxJ"
   },
   "outputs": [],
   "source": [
    "# make a prediction using test-time augmentation\n",
    "def tta_prediction(datagen, model, image, n_examples):\n",
    "\t# convert image into dataset\n",
    "\tsamples = expand_dims(image, 0)\n",
    "\t# prepare iterator\n",
    "\tit = datagen.flow(samples, batch_size=n_examples)\n",
    "\t# make predictions for each augmented image\n",
    "\tyhats = model.predict_generator(it, steps=n_examples, verbose=0)\n",
    "\t# sum across predictions\n",
    "\tsummed = np.sum(yhats, axis=0)\n",
    "\t# argmax across classes\n",
    "\treturn summed"
   ]
  },
  {
   "cell_type": "code",
   "execution_count": 24,
   "metadata": {
    "colab": {
     "base_uri": "https://localhost:8080/",
     "height": 357
    },
    "colab_type": "code",
    "id": "KjKDlgRCdGio",
    "outputId": "efa1aa07-914d-457d-e646-5ee5ba67ad5c"
   },
   "outputs": [
    {
     "name": "stdout",
     "output_type": "stream",
     "text": [
      "truth: ['o']\n",
      "prediction: ['o']\n",
      "truth: ['r']\n",
      "prediction: ['r']\n",
      "truth: ['r']\n",
      "prediction: ['r']\n",
      "truth: ['v']\n",
      "prediction: ['v']\n",
      "truth: ['a']\n",
      "prediction: ['a']\n",
      "truth: ['r']\n",
      "prediction: ['r']\n",
      "truth: ['j']\n",
      "prediction: ['j']\n",
      "truth: ['q']\n",
      "prediction: ['q']\n",
      "truth: ['f']\n",
      "prediction: ['f']\n",
      "truth: ['t']\n",
      "prediction: ['t']\n"
     ]
    }
   ],
   "source": [
    "# plot and print model prediciton \n",
    "#plt.figure(figsize=(10, 1))\n",
    "for index in np.random.choice(25000,10):\n",
    "    img = X_test[index]\n",
    "    # plt.subplot(1,10,index+1)\n",
    "    # plt.imshow(img,cmap=\"gray\")\n",
    "    # plt.axis(\"off\")\n",
    "    print(\"truth:\",decode(le,[Y_test[index]]))\n",
    "    pred = tta_prediction(test_image_gen,model,img,7)\n",
    "    print(\"prediction:\",decode(le,[pred]))"
   ]
  },
  {
   "cell_type": "code",
   "execution_count": 0,
   "metadata": {
    "colab": {},
    "colab_type": "code",
    "id": "vdJD1O6uKXWO"
   },
   "outputs": [],
   "source": [
    "# from keras.models import load_model\n",
    "# model = load_model('brallie_model.h5')\n",
    "# model.load_weights('/content/drive/My Drive/DLCP/brallie_script/brallie_model.h5')\n",
    "# pred = model.predict(X_test_m3[467].reshape(1,28,28,1))\n",
    "\n",
    "# plt.figure(figsize=(10, 1))\n",
    "# for index in np.random.choice(25000,10):\n",
    "#     img = Image.open('data/' + str(index) + '.png').convert(\"L\")\n",
    "#     img = img.resize((28,28))\n",
    "#     im2arr = np.array(img)\n",
    "#     im2arr = X_test_m3[index]\n",
    "#     im2arr = im2arr.reshape(1,28,28,1)\n",
    "#     Predicting the Test set results\n",
    "#     y_pred = model.predict(im2arr,batch_size=128)"
   ]
  },
  {
   "cell_type": "code",
   "execution_count": 0,
   "metadata": {
    "colab": {},
    "colab_type": "code",
    "id": "p4I44HW3uFcR"
   },
   "outputs": [],
   "source": []
  }
 ],
 "metadata": {
  "accelerator": "GPU",
  "colab": {
   "collapsed_sections": [],
   "name": "braille_script_alphabets.ipynb",
   "provenance": []
  },
  "kernelspec": {
   "display_name": "Python 3",
   "language": "python",
   "name": "python3"
  },
  "language_info": {
   "codemirror_mode": {
    "name": "ipython",
    "version": 3
   },
   "file_extension": ".py",
   "mimetype": "text/x-python",
   "name": "python",
   "nbconvert_exporter": "python",
   "pygments_lexer": "ipython3",
   "version": "3.7.0"
  }
 },
 "nbformat": 4,
 "nbformat_minor": 1
}
